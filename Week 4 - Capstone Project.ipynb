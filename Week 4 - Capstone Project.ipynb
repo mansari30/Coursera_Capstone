{
 "cells": [
  {
   "cell_type": "markdown",
   "metadata": {},
   "source": [
    "# Week 4 - Capstone Project"
   ]
  },
  {
   "cell_type": "markdown",
   "metadata": {},
   "source": [
    "### Question 1: A description of the problem and a discussion of the background"
   ]
  },
  {
   "cell_type": "markdown",
   "metadata": {},
   "source": [
    "A travel agency which has multiple locations across the United States is expanding. The management team is looking into the options and trying to decide which city would be best suitable for the business where they could open a new office. <br>\n",
    "Management is exploring the cities which have following characteristics: <br>\n",
    "- City is a commercial hub\n",
    "- City has tourist attractions\n",
    "- City has airports\n",
    "- City has big volume of business and leisure travellers\n",
    "<br>\n",
    "\n"
   ]
  },
  {
   "cell_type": "markdown",
   "metadata": {},
   "source": [
    "## Question 2: A description of the data and how it will be used to solve the problem."
   ]
  },
  {
   "cell_type": "markdown",
   "metadata": {},
   "source": [
    "Since the aim is to look the big cities through which a lot of commuters pass by on daily basis. Following sets of data will be explored to solve the problem. <br>\n",
    "- Annual enplanement information of Top 30 US airports\n",
    "- GDP information correspoding to cities with high annual enplanments\n",
    "- Number of Hotels/Motels/Resorts around the airport\n",
    "<br> <br>\n",
    "**Annual Enplanements** : Airport which has high annual enplanments signify that a lot of commuters pass through this destination. It also means that this location is either a famous tourist hub or a major commercial hub. Annual enplanments information of Top 30 US Airports is avaiable on Wikipedia [here](https://en.wikipedia.org/wiki/List_of_the_busiest_airports_in_the_United_States). The data will be scraped from the website to use it in the analysis. <br> <br>\n",
    "**GDP Information** : Logically within the cities which host top 30 airports, cities who have higher GDPs a probably the business hot spots and a preferred travel destination for many. Therefore, GDP information of the cities which host top 30 airports can give even more insights and facilitate in our decision making. GDP data is also avaiable of Wikipedia [here](https://en.wikipedia.org/wiki/List_of_U.S._metropolitan_areas_by_GDP). This data will be scraped and matched with the annaul enplanments data. <br> <br>\n",
    "**Hotels Around Airport** : This is another indicator of high traveller through a certain city. Data regarding number of hotels/motels/resorts within 10 miles of the airport will be fetched through Foursquare API. Following image is a screenshot of the Foursquare API documentation which shows different 'category_ids' belonging to different hotel types. This will come in handy to make intelligent API calls instead of fetching all the venues first then filtering it later<br>\n",
    "![alt text](/apiref.png)",
    "Visulization of all this information can help in smart decision making for our travel agency. <br> <br>\n",
    "A Regression model will also be built to see if GDP and Annual Enplanemnts are appropriate factors to predict the Number of Hotels around a given airport."
   ]
  }
 ],
 "metadata": {
  "kernelspec": {
   "display_name": "Python 3",
   "language": "python",
   "name": "python3"
  },
  "language_info": {
   "codemirror_mode": {
    "name": "ipython",
    "version": 3
   },
   "file_extension": ".py",
   "mimetype": "text/x-python",
   "name": "python",
   "nbconvert_exporter": "python",
   "pygments_lexer": "ipython3",
   "version": "3.8.3"
  }
 },
 "nbformat": 4,
 "nbformat_minor": 4
}
